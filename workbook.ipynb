{
 "cells": [
  {
   "cell_type": "code",
   "execution_count": 73,
   "metadata": {},
   "outputs": [],
   "source": [
    "%%capture\n",
    "import sys\n",
    "\n",
    "# If you're on Colab:\n",
    "if 'google.colab' in sys.modules:\n",
    "    DATA_PATH = 'https://raw.githubusercontent.com/MaxTechniche/DS-Unit-2-Applied-Modeling/master/data/'\n",
    "    !pip install category_encoders==2.*\n",
    "\n",
    "# If you're working locally:\n",
    "else:\n",
    "    DATA_PATH = 'data/'\n",
    "    \n",
    "top_1000 = 'top_1000.csv'"
   ]
  },
  {
   "cell_type": "code",
   "execution_count": 74,
   "metadata": {},
   "outputs": [],
   "source": [
    "import pandas as pd\n",
    "import numpy as np\n",
    "\n",
    "from sklearn.ensemble import RandomForestRegressor\n",
    "from sklearn.tree import DecisionTreeRegressor\n",
    "from sklearn.impute import SimpleImputer\n",
    "from sklearn.model_selection import train_test_split, GridSearchCV, RandomizedSearchCV\n",
    "from sklearn.linear_model import LinearRegression, Ridge, RidgeCV\n",
    "from sklearn.preprocessing import StandardScaler\n",
    "from sklearn.pipeline import make_pipeline\n",
    "from sklearn.metrics import mean_absolute_error, mean_squared_error, r2_score\n",
    "\n",
    "from category_encoders import OrdinalEncoder, OneHotEncoder"
   ]
  },
  {
   "cell_type": "code",
   "execution_count": 75,
   "metadata": {},
   "outputs": [],
   "source": [
    "df = pd.read_csv(DATA_PATH+top_1000)"
   ]
  },
  {
   "cell_type": "code",
   "execution_count": 76,
   "metadata": {},
   "outputs": [],
   "source": [
    "def genres(df):\n",
    "    df = df.copy()\n",
    "    \n",
    "    genres = set()\n",
    "    for item in df['Genres']:\n",
    "        item = item.lstrip(\"['\").rstrip(\"']\").replace(\"'\",\"\").split(', ')\n",
    "        for genre in item:\n",
    "            genres.add(genre)\n",
    "\n",
    "    df[list(genres)] = 0\n",
    "        \n",
    "    for i, item in zip(df.index, df['Genres']):\n",
    "        item = item.lstrip(\"['\").rstrip(\"']\").replace(\"'\",\"\").split(', ')\n",
    "        for genre in item:\n",
    "            df.at[i, genre] = 1\n",
    "        \n",
    "    return df\n",
    "\n",
    "df = genres(df)"
   ]
  },
  {
   "cell_type": "code",
   "execution_count": 77,
   "metadata": {},
   "outputs": [],
   "source": [
    "def wrangle(df):\n",
    "    df = df.copy()\n",
    "\n",
    "    # df['Year'] = df['Year'].astype('object') # 1.4 increase\n",
    "\n",
    "    # df['Title Length'] = df['Title'].apply(lambda x: len(x)) # .1 increase\n",
    "\n",
    "    df.drop(columns=['Placement', 'Genres', 'Description', 'Directors', 'stars', 'Title'], inplace=True)\n",
    "\n",
    "    return df\n",
    "\n",
    "df = wrangle(df)"
   ]
  },
  {
   "cell_type": "code",
   "execution_count": 44,
   "metadata": {},
   "outputs": [],
   "source": []
  },
  {
   "cell_type": "code",
   "execution_count": 78,
   "metadata": {},
   "outputs": [],
   "source": [
    "def merge_ratings(df):\n",
    "    df = df.copy()\n",
    "\n",
    "    mapping = {\n",
    "        'TV-PG':'PG',\n",
    "        'TV-MA':'R',\n",
    "        'TV-14':'PG-13',\n",
    "        'M':'PG-13',\n",
    "        'GP':'PG',\n",
    "        'Unrated|Not Rated|Passed|Approved': np.NaN\n",
    "    }\n",
    "\n",
    "    df['Certification'] = df['Certification'].replace(mapping, regex=True)\n",
    "\n",
    "    return df\n",
    "\n",
    "df = merge_ratings(df)"
   ]
  },
  {
   "cell_type": "code",
   "execution_count": 79,
   "metadata": {},
   "outputs": [],
   "source": [
    "target = 'Runtime'\n",
    "X = df.drop(columns=target)\n",
    "y = df[target]\n",
    "\n",
    "X_train, X_val, y_train, y_val = train_test_split(X, y, test_size=.2, random_state=42)"
   ]
  },
  {
   "cell_type": "code",
   "execution_count": 80,
   "metadata": {},
   "outputs": [],
   "source": [
    "%%capture\n",
    "pipeline = make_pipeline(\n",
    "    OrdinalEncoder(),\n",
    "    StandardScaler(),\n",
    "    SimpleImputer(),\n",
    "    RandomForestRegressor(random_state=42)\n",
    ")\n",
    "pipeline.fit(X_train, y_train)"
   ]
  },
  {
   "cell_type": "code",
   "execution_count": 81,
   "metadata": {},
   "outputs": [
    {
     "output_type": "stream",
     "name": "stdout",
     "text": [
      "Fitting 5 folds for each of 10 candidates, totalling 50 fits\n",
      "[Parallel(n_jobs=6)]: Using backend LokyBackend with 6 concurrent workers.\n",
      "[Parallel(n_jobs=6)]: Done  38 tasks      | elapsed:   57.1s\n",
      "[Parallel(n_jobs=6)]: Done  50 out of  50 | elapsed:  1.2min finished\n"
     ]
    },
    {
     "output_type": "execute_result",
     "data": {
      "text/plain": [
       "RandomizedSearchCV(estimator=Pipeline(steps=[('ordinalencoder',\n",
       "                                              OrdinalEncoder(cols=['Certification'],\n",
       "                                                             mapping=[{'col': 'Certification',\n",
       "                                                                       'data_type': dtype('O'),\n",
       "                                                                       'mapping': NaN      1\n",
       "PG       2\n",
       "R        3\n",
       "G        4\n",
       "PG-13    5\n",
       "NC-17    6\n",
       "dtype: int64}])),\n",
       "                                             ('standardscaler',\n",
       "                                              StandardScaler()),\n",
       "                                             ('simpleimputer', SimpleImputer()),\n",
       "                                             ('randomforestregressor',\n",
       "                                              RandomForestRegressor(random_state=42))]),\n",
       "                   n_jobs=6,\n",
       "                   param_distributions={'randomforestregressor__max_depth': range(8, 31, 2),\n",
       "                                        'randomforestregressor__max_samples': array([0.2 , 0.25, 0.3 , 0.35, 0.4 , 0.45, 0.5 , 0.55, 0.6 , 0.65, 0.7 ,\n",
       "       0.75, 0.8 ]),\n",
       "                                        'randomforestregressor__n_estimators': range(100, 5001, 100)},\n",
       "                   random_state=42, verbose=1)"
      ]
     },
     "metadata": {},
     "execution_count": 81
    }
   ],
   "source": [
    "params = {\n",
    "    'randomforestregressor__n_estimators': range(100, 5001, 100),\n",
    "    'randomforestregressor__max_depth': range(8, 31, 2),\n",
    "    'randomforestregressor__max_samples': np.arange(.2, .81, .05)\n",
    "}\n",
    "\n",
    "\n",
    "model = RandomizedSearchCV(\n",
    "    pipeline,\n",
    "    param_distributions=params,\n",
    "    n_jobs=6,\n",
    "    verbose=1,\n",
    "    random_state=42\n",
    ")\n",
    "model.fit(X, y)"
   ]
  },
  {
   "cell_type": "code",
   "execution_count": 82,
   "metadata": {},
   "outputs": [
    {
     "output_type": "stream",
     "name": "stdout",
     "text": [
      "Baseline MAE: 21.13167\n",
      "Model MAE: 9.036084972763346\n",
      "Model R2/Score: 0.8073177882453013\n"
     ]
    }
   ],
   "source": [
    "baseline = mean_absolute_error(y, [y.mean()]*len(y))\n",
    "print('Baseline MAE:', baseline)\n",
    "print('Model MAE:', mean_absolute_error(y, model.predict(X))) # 8.9\n",
    "print('Model R2/Score:', model.score(X, y))\n"
   ]
  },
  {
   "cell_type": "code",
   "execution_count": 83,
   "metadata": {},
   "outputs": [
    {
     "output_type": "execute_result",
     "data": {
      "text/plain": [
       "array([118.1   , 129.4275, 122.075 , 117.11  , 124.4575])"
      ]
     },
     "metadata": {},
     "execution_count": 83
    }
   ],
   "source": [
    "model.predict(X_val)[:5]"
   ]
  },
  {
   "cell_type": "code",
   "execution_count": 84,
   "metadata": {},
   "outputs": [
    {
     "output_type": "execute_result",
     "data": {
      "text/plain": [
       "521    105\n",
       "737    131\n",
       "740    122\n",
       "660    129\n",
       "411    130\n",
       "      ... \n",
       "408    107\n",
       "332    113\n",
       "208    117\n",
       "613    123\n",
       "78      88\n",
       "Name: Runtime, Length: 200, dtype: int64"
      ]
     },
     "metadata": {},
     "execution_count": 84
    }
   ],
   "source": [
    "y_val"
   ]
  },
  {
   "cell_type": "code",
   "execution_count": null,
   "metadata": {},
   "outputs": [],
   "source": []
  }
 ],
 "metadata": {
  "kernelspec": {
   "display_name": "Python 3.8.5 64-bit ('BuildWeek2': pipenv)",
   "language": "python",
   "name": "python38564bitbuildweek2pipenvf79450b4995142a9a84972511960ad7b"
  },
  "language_info": {
   "codemirror_mode": {
    "name": "ipython",
    "version": 3
   },
   "file_extension": ".py",
   "mimetype": "text/x-python",
   "name": "python",
   "nbconvert_exporter": "python",
   "pygments_lexer": "ipython3",
   "version": "3.8.5-final"
  }
 },
 "nbformat": 4,
 "nbformat_minor": 1
}