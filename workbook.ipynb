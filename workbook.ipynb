{
 "cells": [
  {
   "cell_type": "code",
   "execution_count": 1,
   "metadata": {},
   "outputs": [],
   "source": [
    "%%capture\n",
    "import sys\n",
    "\n",
    "# If you're on Colab:\n",
    "if 'google.colab' in sys.modules:\n",
    "    DATA_PATH = 'https://raw.githubusercontent.com/MaxTechniche/DS-Unit-2-Applied-Modeling/master/data/'\n",
    "    !pip install category_encoders==2.*\n",
    "\n",
    "# If you're working locally:\n",
    "else:\n",
    "    DATA_PATH = 'data/'\n",
    "    \n",
    "top_1000 = 'top_1000.csv'"
   ]
  },
  {
   "cell_type": "code",
   "execution_count": 2,
   "metadata": {},
   "outputs": [],
   "source": [
    "import pandas as pd\n",
    "import numpy as np\n",
    "\n",
    "from sklearn.ensemble import RandomForestRegressor\n",
    "from sklearn.tree import DecisionTreeRegressor\n",
    "from sklearn.impute import SimpleImputer\n",
    "from sklearn.model_selection import train_test_split, GridSearchCV, RandomizedSearchCV\n",
    "from sklearn.linear_model import LinearRegression, Ridge, RidgeCV\n",
    "from sklearn.preprocessing import StandardScaler\n",
    "from sklearn.pipeline import make_pipeline\n",
    "from sklearn.metrics import mean_absolute_error, mean_squared_error, r2_score\n",
    "\n",
    "from category_encoders import OrdinalEncoder, OneHotEncoder"
   ]
  },
  {
   "cell_type": "code",
   "execution_count": 3,
   "metadata": {},
   "outputs": [],
   "source": [
    "df = pd.read_csv(DATA_PATH+top_1000, index_col='Title')"
   ]
  },
  {
   "cell_type": "code",
   "execution_count": 5,
   "metadata": {},
   "outputs": [],
   "source": [
    "def genres(df):\n",
    "    df = df.copy()\n",
    "    \n",
    "    genres = set()\n",
    "    for item in df['Genres']:\n",
    "        item = item.lstrip(\"['\").rstrip(\"']\").replace(\"'\",\"\").split(', ')\n",
    "        for genre in item:\n",
    "            genres.add(genre)\n",
    "\n",
    "    df[list(genres)] = 0\n",
    "        \n",
    "    for i, item in zip(df.index, df['Genres']):\n",
    "        item = item.lstrip(\"['\").rstrip(\"']\").replace(\"'\",\"\").split(', ')\n",
    "        for genre in item:\n",
    "            df.at[i, genre] = 1\n",
    "        \n",
    "    return df\n",
    "\n",
    "df = genres(df)\n",
    "\n",
    "# df['Year'] = df['Year'].astype('object')\n",
    "df.drop(columns=['Placement', 'Genres', 'Description', 'Directors', 'stars'], inplace=True)"
   ]
  },
  {
   "cell_type": "code",
   "execution_count": 6,
   "metadata": {},
   "outputs": [],
   "source": [
    "def merge_ratings(df):\n",
    "    df = df.copy()\n",
    "\n",
    "    mapping = {\n",
    "        'TV-PG':'PG',\n",
    "        'TV-MA':'R',\n",
    "        'TV-14':'PG-13',\n",
    "        'M':'PG-13',\n",
    "        'GP':'PG',\n",
    "        'Unrated|Not Rated|Passed|Approved': np.NaN\n",
    "    }\n",
    "\n",
    "    df['Certification'] = df['Certification'].replace(mapping, regex=True)\n",
    "\n",
    "    return df\n",
    "\n",
    "df = merge_ratings(df)"
   ]
  },
  {
   "cell_type": "code",
   "execution_count": 7,
   "metadata": {},
   "outputs": [],
   "source": [
    "target = 'Runtime'\n",
    "X = df.drop(columns=target)\n",
    "y = df[target]\n",
    "\n",
    "X_train, X_val, y_train, y_val = train_test_split(X, y, test_size=.2)"
   ]
  },
  {
   "cell_type": "code",
   "execution_count": 8,
   "metadata": {},
   "outputs": [],
   "source": [
    "%%capture\n",
    "pipeline = make_pipeline(\n",
    "    OrdinalEncoder(),\n",
    "    StandardScaler(),\n",
    "    SimpleImputer(),\n",
    "    RandomForestRegressor()\n",
    ")\n",
    "pipeline.fit(X_train, y_train)"
   ]
  },
  {
   "cell_type": "code",
   "execution_count": 10,
   "metadata": {},
   "outputs": [
    {
     "output_type": "execute_result",
     "data": {
      "text/plain": [
       "RandomizedSearchCV(estimator=Pipeline(steps=[('ordinalencoder',\n",
       "                                              OrdinalEncoder(cols=['Certification'],\n",
       "                                                             mapping=[{'col': 'Certification',\n",
       "                                                                       'data_type': dtype('O'),\n",
       "                                                                       'mapping': R        1\n",
       "PG-13    2\n",
       "NaN      3\n",
       "PG       4\n",
       "G        5\n",
       "NC-17    6\n",
       "dtype: int64}])),\n",
       "                                             ('standardscaler',\n",
       "                                              StandardScaler()),\n",
       "                                             ('simpleimputer', SimpleImputer()),\n",
       "                                             ('randomforestregressor',\n",
       "                                              RandomForestRegressor())]),\n",
       "                   n_iter=30, n_jobs=6,\n",
       "                   param_distributions={'randomforestregressor__max_depth': range(8, 31, 2),\n",
       "                                        'randomforestregressor__max_samples': array([0.2 , 0.25, 0.3 , 0.35, 0.4 , 0.45, 0.5 , 0.55, 0.6 , 0.65, 0.7 ,\n",
       "       0.75, 0.8 , 0.85, 0.9 , 0.95]),\n",
       "                                        'randomforestregressor__n_estimators': range(100, 5001, 100)})"
      ]
     },
     "metadata": {},
     "execution_count": 10
    }
   ],
   "source": [
    "params = {\n",
    "    'randomforestregressor__n_estimators': range(100, 5001, 100),\n",
    "    'randomforestregressor__max_depth': range(8, 31, 2),\n",
    "    'randomforestregressor__max_samples': np.arange(.2, 1.0, .05)\n",
    "}\n",
    "\n",
    "\n",
    "model = RandomizedSearchCV(\n",
    "    pipeline,\n",
    "    param_distributions=params,\n",
    "    n_jobs=6,\n",
    "    n_iter=30\n",
    ")\n",
    "model.fit(X, y)"
   ]
  },
  {
   "cell_type": "code",
   "execution_count": 11,
   "metadata": {},
   "outputs": [],
   "source": [
    "baseline = mean_absolute_error(y, [y.mean()]*len(y))"
   ]
  },
  {
   "cell_type": "code",
   "execution_count": 12,
   "metadata": {},
   "outputs": [
    {
     "output_type": "stream",
     "name": "stdout",
     "text": [
      "Baseline MAE: 21.13167\n",
      "Model MAE:     10.902070302532993\n",
      "Model R2:      0.7280029061594206\n"
     ]
    }
   ],
   "source": [
    "print('Baseline MAE:', baseline)\n",
    "print('Model MAE:    ', mean_absolute_error(y, model.predict(X)))\n",
    "print('Model R2:     ', model.score(X, y))\n"
   ]
  },
  {
   "cell_type": "code",
   "execution_count": 13,
   "metadata": {},
   "outputs": [],
   "source": [
    "important = pd.DataFrame(list(zip(X_train.columns, pipeline.named_steps['randomforestregressor'].feature_importances_))).sort_values(1, ascending=False)"
   ]
  },
  {
   "cell_type": "code",
   "execution_count": 17,
   "metadata": {},
   "outputs": [
    {
     "output_type": "execute_result",
     "data": {
      "text/plain": [
       "                 0         1\n",
       "0             Year  0.205841\n",
       "4            Votes  0.138541\n",
       "5   USA Box Office  0.133472\n",
       "2           Rating  0.098262\n",
       "3        Metascore  0.095690\n",
       "16       Animation  0.055434\n",
       "25          Comedy  0.038771\n",
       "1    Certification  0.038206\n",
       "20         History  0.029528\n",
       "21       Biography  0.018467\n",
       "12           Drama  0.018444\n",
       "8          Musical  0.016834\n",
       "13       Adventure  0.016296\n",
       "15             War  0.013641\n",
       "26           Crime  0.013448\n",
       "10          Action  0.009429\n",
       "19        Thriller  0.008750\n",
       "24         Romance  0.007587\n",
       "18          Horror  0.007458\n",
       "11         Western  0.007172\n",
       "22         Mystery  0.006992\n",
       "23         Fantasy  0.006512\n",
       "7           Sci-Fi  0.005280\n",
       "14          Family  0.004313\n",
       "9            Music  0.002184\n",
       "17       Film-Noir  0.001975\n",
       "6            Sport  0.001471"
      ],
      "text/html": "<div>\n<style scoped>\n    .dataframe tbody tr th:only-of-type {\n        vertical-align: middle;\n    }\n\n    .dataframe tbody tr th {\n        vertical-align: top;\n    }\n\n    .dataframe thead th {\n        text-align: right;\n    }\n</style>\n<table border=\"1\" class=\"dataframe\">\n  <thead>\n    <tr style=\"text-align: right;\">\n      <th></th>\n      <th>0</th>\n      <th>1</th>\n    </tr>\n  </thead>\n  <tbody>\n    <tr>\n      <th>0</th>\n      <td>Year</td>\n      <td>0.205841</td>\n    </tr>\n    <tr>\n      <th>4</th>\n      <td>Votes</td>\n      <td>0.138541</td>\n    </tr>\n    <tr>\n      <th>5</th>\n      <td>USA Box Office</td>\n      <td>0.133472</td>\n    </tr>\n    <tr>\n      <th>2</th>\n      <td>Rating</td>\n      <td>0.098262</td>\n    </tr>\n    <tr>\n      <th>3</th>\n      <td>Metascore</td>\n      <td>0.095690</td>\n    </tr>\n    <tr>\n      <th>16</th>\n      <td>Animation</td>\n      <td>0.055434</td>\n    </tr>\n    <tr>\n      <th>25</th>\n      <td>Comedy</td>\n      <td>0.038771</td>\n    </tr>\n    <tr>\n      <th>1</th>\n      <td>Certification</td>\n      <td>0.038206</td>\n    </tr>\n    <tr>\n      <th>20</th>\n      <td>History</td>\n      <td>0.029528</td>\n    </tr>\n    <tr>\n      <th>21</th>\n      <td>Biography</td>\n      <td>0.018467</td>\n    </tr>\n    <tr>\n      <th>12</th>\n      <td>Drama</td>\n      <td>0.018444</td>\n    </tr>\n    <tr>\n      <th>8</th>\n      <td>Musical</td>\n      <td>0.016834</td>\n    </tr>\n    <tr>\n      <th>13</th>\n      <td>Adventure</td>\n      <td>0.016296</td>\n    </tr>\n    <tr>\n      <th>15</th>\n      <td>War</td>\n      <td>0.013641</td>\n    </tr>\n    <tr>\n      <th>26</th>\n      <td>Crime</td>\n      <td>0.013448</td>\n    </tr>\n    <tr>\n      <th>10</th>\n      <td>Action</td>\n      <td>0.009429</td>\n    </tr>\n    <tr>\n      <th>19</th>\n      <td>Thriller</td>\n      <td>0.008750</td>\n    </tr>\n    <tr>\n      <th>24</th>\n      <td>Romance</td>\n      <td>0.007587</td>\n    </tr>\n    <tr>\n      <th>18</th>\n      <td>Horror</td>\n      <td>0.007458</td>\n    </tr>\n    <tr>\n      <th>11</th>\n      <td>Western</td>\n      <td>0.007172</td>\n    </tr>\n    <tr>\n      <th>22</th>\n      <td>Mystery</td>\n      <td>0.006992</td>\n    </tr>\n    <tr>\n      <th>23</th>\n      <td>Fantasy</td>\n      <td>0.006512</td>\n    </tr>\n    <tr>\n      <th>7</th>\n      <td>Sci-Fi</td>\n      <td>0.005280</td>\n    </tr>\n    <tr>\n      <th>14</th>\n      <td>Family</td>\n      <td>0.004313</td>\n    </tr>\n    <tr>\n      <th>9</th>\n      <td>Music</td>\n      <td>0.002184</td>\n    </tr>\n    <tr>\n      <th>17</th>\n      <td>Film-Noir</td>\n      <td>0.001975</td>\n    </tr>\n    <tr>\n      <th>6</th>\n      <td>Sport</td>\n      <td>0.001471</td>\n    </tr>\n  </tbody>\n</table>\n</div>"
     },
     "metadata": {},
     "execution_count": 17
    }
   ],
   "source": [
    "important"
   ]
  }
 ],
 "metadata": {
  "kernelspec": {
   "display_name": "Python 3.8.5 64-bit ('BuildWeek2': pipenv)",
   "language": "python",
   "name": "python38564bitbuildweek2pipenvf79450b4995142a9a84972511960ad7b"
  },
  "language_info": {
   "codemirror_mode": {
    "name": "ipython",
    "version": 3
   },
   "file_extension": ".py",
   "mimetype": "text/x-python",
   "name": "python",
   "nbconvert_exporter": "python",
   "pygments_lexer": "ipython3",
   "version": "3.8.5-final"
  }
 },
 "nbformat": 4,
 "nbformat_minor": 1
}